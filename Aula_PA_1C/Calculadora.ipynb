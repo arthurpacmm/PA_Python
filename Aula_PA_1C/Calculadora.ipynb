{
  "nbformat": 4,
  "nbformat_minor": 0,
  "metadata": {
    "colab": {
      "provenance": [],
      "authorship_tag": "ABX9TyPS8N1EoTZiz8TDw34eZ+8k",
      "include_colab_link": true
    },
    "kernelspec": {
      "name": "python3",
      "display_name": "Python 3"
    },
    "language_info": {
      "name": "python"
    }
  },
  "cells": [
    {
      "cell_type": "markdown",
      "metadata": {
        "id": "view-in-github",
        "colab_type": "text"
      },
      "source": [
        "<a href=\"https://colab.research.google.com/github/arthurpacmm/PA_Python/blob/main/Aula_PA_1C/Calculadora.ipynb\" target=\"_parent\"><img src=\"https://colab.research.google.com/assets/colab-badge.svg\" alt=\"Open In Colab\"/></a>"
      ]
    },
    {
      "cell_type": "code",
      "execution_count": 10,
      "metadata": {
        "colab": {
          "base_uri": "https://localhost:8080/"
        },
        "id": "sHX8DY949_CV",
        "outputId": "cea08e42-3c98-486f-9d76-ae136e62b12d"
      },
      "outputs": [
        {
          "output_type": "stream",
          "name": "stdout",
          "text": [
            "Digite o primeiro número:4\n",
            "Digite o segundo número:6\n",
            "A soma é: 10\n"
          ]
        }
      ],
      "source": [
        "#Soma\n",
        "\n",
        "##Entrada\n",
        "\n",
        "num1 = int(input('Digite o primeiro número:'))\n",
        "num2 = int(input('Digite o segundo número:'))\n",
        "\n",
        "##Processamento\n",
        "\n",
        "soma = num1+num2\n",
        "\n",
        "##Saída\n",
        "\n",
        "print ('A soma é:', soma)"
      ]
    },
    {
      "cell_type": "code",
      "source": [
        "#Subtração\n",
        "\n",
        "##Entrada\n",
        "\n",
        "num1 = int(input('Digite o primeiro número:'))\n",
        "num2 = int(input('Digite o segundo número:'))\n",
        "\n",
        "##Processamento\n",
        "\n",
        "total = num1-num2\n",
        "\n",
        "##Saída\n",
        "\n",
        "print ('O resultado da subtração é:', total)"
      ],
      "metadata": {
        "colab": {
          "base_uri": "https://localhost:8080/"
        },
        "id": "IVPPIBwh_3-l",
        "outputId": "f10f5679-81f2-41c4-e4a9-1aafd6bfc136"
      },
      "execution_count": 15,
      "outputs": [
        {
          "output_type": "stream",
          "name": "stdout",
          "text": [
            "Digite o primeiro número:88\n",
            "Digite o segundo número:44\n",
            "O resultado da subtração é: 44\n"
          ]
        }
      ]
    },
    {
      "cell_type": "code",
      "source": [
        "#Divisão\n",
        "\n",
        "##Entrada\n",
        "\n",
        "num1 = float(input('Digite o primeiro número:'))\n",
        "num2 = float(input('Digite o segundo número:'))\n",
        "\n",
        "##Processamento\n",
        "\n",
        "total = num1/num2\n",
        "\n",
        "##Saída\n",
        "\n",
        "print ('O resultado da divisão é:', total)"
      ],
      "metadata": {
        "colab": {
          "base_uri": "https://localhost:8080/"
        },
        "id": "MHltuQ2YBBwd",
        "outputId": "c4fccbab-b370-4875-de06-96b17e3cc11c"
      },
      "execution_count": 17,
      "outputs": [
        {
          "output_type": "stream",
          "name": "stdout",
          "text": [
            "Digite o primeiro número4\n",
            "Digite o segundo número2\n",
            "O resultado da divisão é: 2.0\n"
          ]
        }
      ]
    },
    {
      "cell_type": "code",
      "source": [
        "#Multiplicação\n",
        "\n",
        "##Entrada\n",
        "\n",
        "num1 = float(input('Digite o primeiro número:'))\n",
        "num2 = float(input('Digite o segundo número:'))\n",
        "\n",
        "##Processamento\n",
        "\n",
        "total = num1*num2\n",
        "\n",
        "##Saída\n",
        "\n",
        "print ('O resultado da multiplicação é:', total)"
      ],
      "metadata": {
        "colab": {
          "base_uri": "https://localhost:8080/"
        },
        "id": "W06XNRlEBqxz",
        "outputId": "e70a2f0d-342f-4d3e-e8de-cb7e497503eb"
      },
      "execution_count": 20,
      "outputs": [
        {
          "output_type": "stream",
          "name": "stdout",
          "text": [
            "Digite o primeiro número:100\n",
            "Digite o segundo número:5\n",
            "O resultado da multiplicação é: 500.0\n"
          ]
        }
      ]
    }
  ]
}