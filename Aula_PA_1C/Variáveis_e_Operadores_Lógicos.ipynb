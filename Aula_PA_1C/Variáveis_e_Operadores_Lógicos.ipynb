{
  "nbformat": 4,
  "nbformat_minor": 0,
  "metadata": {
    "colab": {
      "provenance": [],
      "authorship_tag": "ABX9TyP+Rt3x10K4vyyfhUxqfb2V",
      "include_colab_link": true
    },
    "kernelspec": {
      "name": "python3",
      "display_name": "Python 3"
    },
    "language_info": {
      "name": "python"
    }
  },
  "cells": [
    {
      "cell_type": "markdown",
      "metadata": {
        "id": "view-in-github",
        "colab_type": "text"
      },
      "source": [
        "<a href=\"https://colab.research.google.com/github/arthurpacmm/PA_Python/blob/main/Aula_PA_1C/Vari%C3%A1veis_e_Operadores_L%C3%B3gicos.ipynb\" target=\"_parent\"><img src=\"https://colab.research.google.com/assets/colab-badge.svg\" alt=\"Open In Colab\"/></a>"
      ]
    },
    {
      "cell_type": "code",
      "execution_count": null,
      "metadata": {
        "collapsed": true,
        "id": "EHirrvqVVSPy"
      },
      "outputs": [],
      "source": [
        "#Média\n",
        "\n",
        "##Entrada\n",
        "\n",
        "n1 = float(input('Digite a nota da primeira prova:'))\n",
        "n2 = float(input('Digite a nota da primeira prova:'))\n",
        "\n",
        "##Processamento\n",
        "\n",
        "m = (n1+n2) /2\n",
        "\n",
        "##Saída\n",
        "\n",
        "print ('A média do aluno é:', m)\n"
      ]
    },
    {
      "cell_type": "code",
      "source": [
        "from os import fpathconf\n",
        "#Conversão de Celsius para Fahrenheit\n",
        "\n",
        "##Entrada\n",
        "C = float(input('Graus Celsius:'))\n",
        "\n",
        "##Processamento\n",
        "F = (C*9/5)+32\n",
        "\n",
        "##Saída\n",
        "print ('O valor em fahrenheit é:', F)\n"
      ],
      "metadata": {
        "id": "-D629_Ypau76"
      },
      "execution_count": null,
      "outputs": []
    },
    {
      "cell_type": "code",
      "source": [
        "#Conversão de Fahrenheit para Celsius\n",
        "\n",
        "##Entrada\n",
        "F = float(input('Graus Fahrenheit:'))\n",
        "\n",
        "##Processamento\n",
        "C = (F-32) * (5/9)\n",
        "\n",
        "##Saída\n",
        "print ('O valor em graus Celsius é:', C)"
      ],
      "metadata": {
        "collapsed": true,
        "id": "AksWe_RCduVg"
      },
      "execution_count": null,
      "outputs": []
    },
    {
      "cell_type": "code",
      "source": [
        "#Calcule o valor da compra\n",
        "\n",
        "##Entrada\n",
        "v = float(input('Valor do produto:'))\n",
        "q = int(input('Quantidade de produtos:'))\n",
        "\n",
        "##Processamento\n",
        "Vc = (v*q)\n",
        "\n",
        "##Saída\n",
        "print ('O valor da compra é:', Vc)"
      ],
      "metadata": {
        "colab": {
          "base_uri": "https://localhost:8080/"
        },
        "id": "qJbv3sugj4ev",
        "outputId": "f93d3674-903a-4cdb-b847-dad5fc9fd31e"
      },
      "execution_count": 42,
      "outputs": [
        {
          "output_type": "stream",
          "name": "stdout",
          "text": [
            "Valor do produto:12\n",
            "Quantidade de produtos:3\n",
            "O valor da compra é: 36.0\n"
          ]
        }
      ]
    }
  ]
}